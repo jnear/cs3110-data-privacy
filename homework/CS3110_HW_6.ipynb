{
 "cells": [
  {
   "cell_type": "markdown",
   "metadata": {},
   "source": [
    "# CS 3110/5110: Data Privacy\n",
    "## Homework 6"
   ]
  },
  {
   "cell_type": "code",
   "execution_count": null,
   "metadata": {},
   "outputs": [],
   "source": [
    "# Load the data and libraries\n",
    "import pandas as pd\n",
    "import numpy as np\n",
    "from scipy import stats\n",
    "import matplotlib.pyplot as plt\n",
    "\n",
    "def laplace_mech(v, sensitivity, epsilon):\n",
    "    return v + np.random.laplace(loc=0, scale=sensitivity / epsilon)\n",
    "\n",
    "def gaussian_mech(v, sensitivity, epsilon, delta):\n",
    "    return v + np.random.normal(loc=0, scale=sensitivity * np.sqrt(2*np.log(1.25/delta)) / epsilon)\n",
    "\n",
    "def pct_error(orig, priv):\n",
    "    return np.abs(orig - priv)/orig * 100.0\n",
    "\n",
    "adult = pd.read_csv('https://github.com/jnear/cs3110-data-privacy/raw/main/homework/adult_with_pii.csv')\n",
    "retail = pd.read_csv('https://github.com/jnear/cs3110-data-privacy/raw/main/homework/retail.csv').dropna()"
   ]
  },
  {
   "cell_type": "markdown",
   "metadata": {},
   "source": [
    "## Question 1 (10 points)\n",
    "\n",
    "Implement the function `adult_hists`, which should return three histograms based on the `adult` dataset:\n",
    "\n",
    "1. A 1-d histogram of the `Occupation` column\n",
    "2. A 1-d histogram of the `Education` column\n",
    "3. A 2-d histogram of the `Race` and `Sex` columns\n",
    "\n",
    "Your function should have a **total** privacy cost of `epsilon` and a **person-level** unit of privacy."
   ]
  },
  {
   "cell_type": "code",
   "execution_count": null,
   "metadata": {
    "deletable": false,
    "nbgrader": {
     "cell_type": "code",
     "checksum": "2b8e76bb38beae6d8a9d8e30a31bd54e",
     "grade": false,
     "grade_id": "cell-63f79c9bbc970326",
     "locked": false,
     "schema_version": 3,
     "solution": true,
     "task": false
    }
   },
   "outputs": [],
   "source": [
    "def adult_hists(epsilon):\n",
    "    # YOUR CODE HERE\n",
    "    raise NotImplementedError()"
   ]
  },
  {
   "cell_type": "code",
   "execution_count": null,
   "metadata": {
    "deletable": false,
    "editable": false,
    "nbgrader": {
     "cell_type": "code",
     "checksum": "b2c9dfae81cb7bf230930d5f79bdd980",
     "grade": true,
     "grade_id": "cell-09e957f0bec6bb1c",
     "locked": true,
     "points": 10,
     "schema_version": 3,
     "solution": false,
     "task": false
    }
   },
   "outputs": [],
   "source": [
    "# TEST CASE\n",
    "occupation, education, multi = adult_hists(1.0)\n",
    "assert occupation.sum() > 30000\n",
    "assert education.sum() > 32000\n",
    "assert multi.sum() > 32000"
   ]
  },
  {
   "cell_type": "markdown",
   "metadata": {},
   "source": [
    "## Question 2 (10 points)\n",
    "\n",
    "Argue that your implementation of `adult_hists` has a total privacy cost of `epsilon` and a person-level unit of privacy."
   ]
  },
  {
   "cell_type": "markdown",
   "metadata": {
    "deletable": false,
    "nbgrader": {
     "cell_type": "markdown",
     "checksum": "16e151873e11a4dcb61fc15626a3047f",
     "grade": true,
     "grade_id": "cell-5014a123a618927a",
     "locked": false,
     "points": 10,
     "schema_version": 3,
     "solution": true,
     "task": false
    }
   },
   "source": [
    "YOUR ANSWER HERE"
   ]
  },
  {
   "cell_type": "markdown",
   "metadata": {},
   "source": [
    "## Question 3 (10 points)\n",
    "\n",
    "Implement the function `retail_hist`, which should return one histogram based on the `retail` dataset:\n",
    "\n",
    "1. A 1-d histogram of the `Country` column\n",
    "\n",
    "Your function should have a **total** privacy cost of `epsilon` and an **event-level** unit of privacy."
   ]
  },
  {
   "cell_type": "code",
   "execution_count": null,
   "metadata": {
    "deletable": false,
    "nbgrader": {
     "cell_type": "code",
     "checksum": "71d49c0c1a497a968635c0ce4176f910",
     "grade": false,
     "grade_id": "cell-c3574b3bf92edbb9",
     "locked": false,
     "schema_version": 3,
     "solution": true,
     "task": false
    }
   },
   "outputs": [],
   "source": [
    "def retail_hist(epsilon):\n",
    "    # YOUR CODE HERE\n",
    "    raise NotImplementedError()"
   ]
  },
  {
   "cell_type": "code",
   "execution_count": null,
   "metadata": {
    "deletable": false,
    "editable": false,
    "nbgrader": {
     "cell_type": "code",
     "checksum": "5f106d0d48be807113ae2b0b4b8106ce",
     "grade": true,
     "grade_id": "cell-42a43ac58be658e0",
     "locked": true,
     "points": 10,
     "schema_version": 3,
     "solution": false,
     "task": false
    }
   },
   "outputs": [],
   "source": [
    "# TEST CASE\n",
    "country_hist = retail_hist(1.0)\n",
    "assert country_hist.sum() > 7400"
   ]
  },
  {
   "cell_type": "markdown",
   "metadata": {},
   "source": [
    "## Question 3 (10 points)\n",
    "\n",
    "Argue that your implementation of `retail_hist` has a total privacy cost of `epsilon` and an event-level unit of privacy."
   ]
  },
  {
   "cell_type": "markdown",
   "metadata": {
    "deletable": false,
    "nbgrader": {
     "cell_type": "markdown",
     "checksum": "3d1c1756a8b2c9170255ad30278ce298",
     "grade": true,
     "grade_id": "cell-5a28e9b46d3e9bb2",
     "locked": false,
     "points": 10,
     "schema_version": 3,
     "solution": true,
     "task": false
    }
   },
   "source": [
    "YOUR ANSWER HERE"
   ]
  },
  {
   "cell_type": "markdown",
   "metadata": {},
   "source": [
    "## Question 4 (10 points)\n",
    "\n",
    "Implement the function `retail_hist_bounded`, which returns a 1-d histogram of the `Country` column, with a total privacy cost of `epsilon`, and with a *user-level* unit of privacy. Use contribution bounding to enforce the unit of privacy."
   ]
  },
  {
   "cell_type": "code",
   "execution_count": null,
   "metadata": {
    "deletable": false,
    "nbgrader": {
     "cell_type": "code",
     "checksum": "121fe2613e21a336a3f90659f4544ff9",
     "grade": false,
     "grade_id": "cell-76afc774a939561f",
     "locked": false,
     "schema_version": 3,
     "solution": true,
     "task": false
    }
   },
   "outputs": [],
   "source": [
    "def retail_hist_bounded(epsilon):\n",
    "    # YOUR CODE HERE\n",
    "    raise NotImplementedError()"
   ]
  },
  {
   "cell_type": "code",
   "execution_count": null,
   "metadata": {
    "deletable": false,
    "editable": false,
    "nbgrader": {
     "cell_type": "code",
     "checksum": "ed68ce7cde8e0115675b1265f8cba21b",
     "grade": true,
     "grade_id": "cell-bc3ec8143e03943e",
     "locked": true,
     "points": 10,
     "schema_version": 3,
     "solution": false,
     "task": false
    }
   },
   "outputs": [],
   "source": [
    "# TEST CASE\n",
    "country_hist = retail_hist_bounded(1.0)\n",
    "assert country_hist.sum() > 6000"
   ]
  },
  {
   "cell_type": "markdown",
   "metadata": {},
   "source": [
    "## Question 5 (10 points)\n",
    "\n",
    "Argue that your implementation of `retail_hist_bounded` has a total privacy cost of `epsilon` and a person-level unit of privacy."
   ]
  },
  {
   "cell_type": "markdown",
   "metadata": {
    "deletable": false,
    "nbgrader": {
     "cell_type": "markdown",
     "checksum": "a640b15eed29ea092d50268ca44fce35",
     "grade": true,
     "grade_id": "cell-5a28e9b46d3a9bb2",
     "locked": false,
     "points": 10,
     "schema_version": 3,
     "solution": true,
     "task": false
    }
   },
   "source": [
    "YOUR ANSWER HERE"
   ]
  },
  {
   "cell_type": "markdown",
   "metadata": {},
   "source": [
    "## Question 6 (20 points)\n",
    "\n",
    "Implement `retail_avg_quantity`, a function that returns the average quantity of orders in the `retail` dataset, with a total privacy cost of `epsilon` and a person-level unit of privacy."
   ]
  },
  {
   "cell_type": "code",
   "execution_count": null,
   "metadata": {
    "deletable": false,
    "nbgrader": {
     "cell_type": "code",
     "checksum": "a8aaaa03f131d6001dd1de4a39f43ca7",
     "grade": false,
     "grade_id": "cell-4a82c701b4af2636",
     "locked": false,
     "schema_version": 3,
     "solution": true,
     "task": false
    }
   },
   "outputs": [],
   "source": [
    "def retail_avg_quantity(epsilon):\n",
    "    # YOUR CODE HERE\n",
    "    raise NotImplementedError()"
   ]
  },
  {
   "cell_type": "code",
   "execution_count": null,
   "metadata": {
    "deletable": false,
    "editable": false,
    "nbgrader": {
     "cell_type": "code",
     "checksum": "4e257ef242c05938e3045994f0a23362",
     "grade": true,
     "grade_id": "cell-de21931b1bfb3642",
     "locked": true,
     "points": 20,
     "schema_version": 3,
     "solution": false,
     "task": false
    }
   },
   "outputs": [],
   "source": [
    "# TEST CASE\n",
    "avg = retail_avg_quantity(1)\n",
    "assert avg > 7\n",
    "assert avg < 13"
   ]
  },
  {
   "cell_type": "markdown",
   "metadata": {},
   "source": [
    "## Question 7 (10 points)\n",
    "\n",
    "Argue that your implementation of `retail_avg_quantity` has a total privacy cost of `epsilon` and a person-level unit of privacy."
   ]
  },
  {
   "cell_type": "markdown",
   "metadata": {
    "deletable": false,
    "nbgrader": {
     "cell_type": "markdown",
     "checksum": "0cb49b8a2b6e1945273124aa241541ae",
     "grade": true,
     "grade_id": "cell-5a28e9b46d3f9bb2",
     "locked": false,
     "points": 10,
     "schema_version": 3,
     "solution": true,
     "task": false
    }
   },
   "source": [
    "YOUR ANSWER HERE"
   ]
  },
  {
   "cell_type": "markdown",
   "metadata": {},
   "source": [
    "## Question 8 (10 points)\n",
    "\n",
    "In 1-3 sentences each, answer the following:\n",
    "\n",
    "- What impact did the choice of contribution bound have on the average?\n",
    "- How did you arrive at your choice of contribution bound?\n",
    "- What is the better choice of privacy unit for the `retail` dataset: event-level or person-level?\n",
    "- What is an example of a potential negative outcome associated with choosing the event-level unit of privacy for this dataset?"
   ]
  },
  {
   "cell_type": "markdown",
   "metadata": {
    "deletable": false,
    "nbgrader": {
     "cell_type": "markdown",
     "checksum": "68125345e3d5489cebf964d240e8ab2f",
     "grade": true,
     "grade_id": "cell-f4153a007ae8b69d",
     "locked": false,
     "points": 10,
     "schema_version": 3,
     "solution": true,
     "task": false
    }
   },
   "source": [
    "YOUR ANSWER HERE"
   ]
  }
 ],
 "metadata": {
  "kernelspec": {
   "display_name": "Python 3 (ipykernel)",
   "language": "python",
   "name": "python3"
  },
  "language_info": {
   "codemirror_mode": {
    "name": "ipython",
    "version": 3
   },
   "file_extension": ".py",
   "mimetype": "text/x-python",
   "name": "python",
   "nbconvert_exporter": "python",
   "pygments_lexer": "ipython3",
   "version": "3.10.12"
  }
 },
 "nbformat": 4,
 "nbformat_minor": 4
}
