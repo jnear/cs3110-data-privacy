{
 "cells": [
  {
   "cell_type": "markdown",
   "metadata": {},
   "source": [
    "# CS 3110/5110: Data Privacy\n",
    "## Homework 2"
   ]
  },
  {
   "cell_type": "code",
   "execution_count": null,
   "metadata": {},
   "outputs": [],
   "source": [
    "# Load the data and libraries\n",
    "import pandas as pd\n",
    "import numpy as np\n",
    "\n",
    "adult = pd.read_csv('https://github.com/jnear/cs3110-data-privacy/raw/main/homework/adult_with_pii.csv')\n",
    "adult = adult.dropna()"
   ]
  },
  {
   "cell_type": "markdown",
   "metadata": {},
   "source": [
    "## Question 1 (20 points)\n",
    "\n",
    "Implement a more efficient version of `is_k_anonymous`. The inefficient implementation, taken from the textbook, appears below.\n",
    "\n",
    "**Hint**: use the [`value_counts`](https://pandas.pydata.org/pandas-docs/stable/reference/api/pandas.Series.value_counts.html) or `group_by` functions, and make sure no count is less than $k$."
   ]
  },
  {
   "cell_type": "code",
   "execution_count": null,
   "metadata": {},
   "outputs": [],
   "source": [
    "# Checking for k-Anonymity, taken from the textbook\n",
    "# def is_k_anonymous(k, qis, df):\n",
    "#     for index, row in df.iterrows():\n",
    "#         query = ' & '.join([f'`{col}` == \"{row[col]}\"' for col in qis])\n",
    "#         rows = df.query(query)\n",
    "#         if (rows.shape[0] < k):\n",
    "#             return False\n",
    "#     return True"
   ]
  },
  {
   "cell_type": "code",
   "execution_count": null,
   "metadata": {
    "deletable": false,
    "nbgrader": {
     "cell_type": "code",
     "checksum": "f5188941c720ac0d62843425a9f6e924",
     "grade": false,
     "grade_id": "cell-41bce010b027856e",
     "locked": false,
     "schema_version": 3,
     "solution": true,
     "task": false
    }
   },
   "outputs": [],
   "source": [
    "# Checking for k-anonymity more efficiently\n",
    "def is_k_anonymous(k, qis, df):\n",
    "    \"\"\"Returns true if df satisfies k-Anonymity for the quasi-identifiers \n",
    "    qis. Returns false otherwise.\"\"\"\n",
    "    # YOUR CODE HERE\n",
    "    raise NotImplementedError()"
   ]
  },
  {
   "cell_type": "code",
   "execution_count": null,
   "metadata": {
    "deletable": false,
    "editable": false,
    "nbgrader": {
     "cell_type": "code",
     "checksum": "faa260f295be78335faed2bddc5bc608",
     "grade": true,
     "grade_id": "cell-3d5fd22faf4dd36c",
     "locked": true,
     "points": 20,
     "schema_version": 3,
     "solution": false,
     "task": false
    }
   },
   "outputs": [],
   "source": [
    "# TEST CASES for question 1\n",
    "\n",
    "assert not is_k_anonymous(2, ['Age'], adult)\n",
    "assert is_k_anonymous(1, ['Age'], adult)\n",
    "assert is_k_anonymous(1, ['Age', 'Occupation'], adult)"
   ]
  },
  {
   "cell_type": "markdown",
   "metadata": {},
   "source": [
    "## Question 2 (10 points)\n",
    "\n",
    "Consider the definition of `generalize` below, taken from the textbook. The function takes a dataframe `df` and a dictionary `depths` that describes how much to generalize each column of `df`. Generalizing a column to a depth of $n$ replaces the $n$ least-significant digits of each number in that column by zeroes. For example, we could generalize column `A` by making its least-significant digit a 0 and column `B` by doing the same for 2 digits with the following depth specification:"
   ]
  },
  {
   "cell_type": "code",
   "execution_count": null,
   "metadata": {},
   "outputs": [],
   "source": [
    "depths = {\n",
    "    'A': 1,\n",
    "    'B': 2\n",
    "}"
   ]
  },
  {
   "cell_type": "code",
   "execution_count": null,
   "metadata": {},
   "outputs": [],
   "source": [
    "def generalize(df, depths):\n",
    "    return df.apply(lambda x: x.apply(lambda y: int(int(y/(10**depths[x.name]))*(10**depths[x.name]))))"
   ]
  },
  {
   "cell_type": "markdown",
   "metadata": {},
   "source": [
    "Using the `generalize` function, generalize the `Age` column of the `adult` dataset to a depth of 1. Drop the other columns of the dataset. Your result should achieve $k$-Anonymity for $k=20$."
   ]
  },
  {
   "cell_type": "code",
   "execution_count": null,
   "metadata": {
    "deletable": false,
    "nbgrader": {
     "cell_type": "code",
     "checksum": "0f2a979204fce7f13427fa214f970114",
     "grade": false,
     "grade_id": "cell-ebd030727b205883",
     "locked": false,
     "schema_version": 3,
     "solution": true,
     "task": false
    }
   },
   "outputs": [],
   "source": [
    "def generalize_adult_age():\n",
    "    depths = {\n",
    "        # YOUR CODE HERE\n",
    "        raise NotImplementedError()\n",
    "    }\n",
    "    \n",
    "    return generalize(adult[['Age']], depths)"
   ]
  },
  {
   "cell_type": "code",
   "execution_count": null,
   "metadata": {
    "deletable": false,
    "editable": false,
    "nbgrader": {
     "cell_type": "code",
     "checksum": "7641d523380fd293a03c365ca9a27493",
     "grade": true,
     "grade_id": "cell-040f45c8ba9921c4",
     "locked": true,
     "points": 10,
     "schema_version": 3,
     "solution": false,
     "task": false
    }
   },
   "outputs": [],
   "source": [
    "assert is_k_anonymous(20, ['Age'], generalize_adult_age())"
   ]
  },
  {
   "cell_type": "markdown",
   "metadata": {},
   "source": [
    "## Question 3 (10 points)\n",
    "\n",
    "Using the `generalize` function, generalize the `Age` and `Zip` columns of the `adult` dataset in order to achieve $k$-Anonymity for $k=5$. Your result should drop other columns besides these two."
   ]
  },
  {
   "cell_type": "code",
   "execution_count": null,
   "metadata": {
    "deletable": false,
    "nbgrader": {
     "cell_type": "code",
     "checksum": "712fd768a6e5c6a1c0072becd1d8cecd",
     "grade": false,
     "grade_id": "cell-2a5ad51eb81f11c9",
     "locked": false,
     "schema_version": 3,
     "solution": true,
     "task": false
    }
   },
   "outputs": [],
   "source": [
    "def generalize_adult_age_zip():\n",
    "    depths = {\n",
    "        # YOUR CODE HERE\n",
    "        raise NotImplementedError()\n",
    "    }\n",
    "\n",
    "    return generalize(adult[['Age', 'Zip']], depths)"
   ]
  },
  {
   "cell_type": "code",
   "execution_count": null,
   "metadata": {
    "deletable": false,
    "editable": false,
    "nbgrader": {
     "cell_type": "code",
     "checksum": "9f0d42e78670cf4f5ce4af603cde2c65",
     "grade": true,
     "grade_id": "cell-fd1c63463e2a9665",
     "locked": true,
     "points": 10,
     "schema_version": 3,
     "solution": false,
     "task": false
    }
   },
   "outputs": [],
   "source": [
    "assert is_k_anonymous(5, ['Age', 'Zip'], generalize_adult_age_zip())"
   ]
  },
  {
   "cell_type": "markdown",
   "metadata": {},
   "source": [
    "## Question 4 (30 points)\n",
    "\n",
    "In 1-4 sentences each, answer the following:\n",
    "\n",
    "1. How much generalization was required to achieve $k=5$ in question 3?\n",
    "2. Does this level of generalization significantly impact the utility of the $k$-Anonymized data? Why or why not?\n",
    "3. Why is generalizing the `adult` dataset so challenging? (**Hint**: consider outliers)\n",
    "4. Is there another approach, in addition to our simple generalization method, that might work better?\n",
    "5. What is a simple method for generalizing the `Occupation` column?"
   ]
  },
  {
   "cell_type": "markdown",
   "metadata": {
    "deletable": false,
    "nbgrader": {
     "cell_type": "markdown",
     "checksum": "e5cf6d20ea57096a31536a9c112f78d4",
     "grade": true,
     "grade_id": "cell-44d08233c2b2e94a",
     "locked": false,
     "points": 30,
     "schema_version": 3,
     "solution": true,
     "task": false
    }
   },
   "source": [
    "YOUR ANSWER HERE"
   ]
  }
 ],
 "metadata": {
  "kernelspec": {
   "display_name": "Python 3 (ipykernel)",
   "language": "python",
   "name": "python3"
  },
  "language_info": {
   "codemirror_mode": {
    "name": "ipython",
    "version": 3
   },
   "file_extension": ".py",
   "mimetype": "text/x-python",
   "name": "python",
   "nbconvert_exporter": "python",
   "pygments_lexer": "ipython3",
   "version": "3.10.12"
  }
 },
 "nbformat": 4,
 "nbformat_minor": 4
}
