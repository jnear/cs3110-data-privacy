{
 "cells": [
  {
   "cell_type": "markdown",
   "metadata": {},
   "source": [
    "# CS 3110/5110: Data Privacy\n",
    "## In-Class Exercise, week of 11/04/2024"
   ]
  },
  {
   "cell_type": "code",
   "execution_count": null,
   "metadata": {},
   "outputs": [],
   "source": [
    "# Load the data and libraries\n",
    "import pandas as pd\n",
    "import numpy as np\n",
    "from scipy import stats\n",
    "import matplotlib.pyplot as plt\n",
    "\n",
    "def laplace_mech(v, sensitivity, epsilon):\n",
    "    return v + np.random.laplace(loc=0, scale=sensitivity / epsilon)\n",
    "\n",
    "def gaussian_mech(v, sensitivity, epsilon, delta):\n",
    "    return v + np.random.normal(loc=0, scale=sensitivity * np.sqrt(2*np.log(1.25/delta)) / epsilon)\n",
    "\n",
    "def gaussian_mech_vec(vec, sensitivity, epsilon, delta):\n",
    "    return [v + np.random.normal(loc=0, scale=sensitivity * np.sqrt(2*np.log(1.25/delta)) / epsilon)\n",
    "            for v in vec]\n",
    "\n",
    "def pct_error(orig, priv):\n",
    "    return np.abs(orig - priv)/orig * 100.0\n",
    "\n",
    "adult = pd.read_csv('https://github.com/jnear/cs3110-data-privacy/raw/main/homework/adult_with_pii.csv')"
   ]
  },
  {
   "cell_type": "markdown",
   "metadata": {},
   "source": [
    "## Question 1\n",
    "\n",
    "Implement an *encoding function* for randomized response to a \"yes/no\" question.\n",
    "\n",
    "Reference [Chapter 13](https://uvm-plaid.github.io/programming-dp/notebooks/ch13.html#randomized-response)."
   ]
  },
  {
   "cell_type": "code",
   "execution_count": null,
   "metadata": {
    "deletable": false,
    "nbgrader": {
     "cell_type": "code",
     "checksum": "585becc6c2a189f373fbed5bf9d92571",
     "grade": false,
     "grade_id": "cell-c52b65e148358a20",
     "locked": false,
     "schema_version": 3,
     "solution": true,
     "task": false
    }
   },
   "outputs": [],
   "source": [
    "def encode_rand_resp_yes_no(true_response):\n",
    "    # YOUR CODE HERE\n",
    "    raise NotImplementedError()\n",
    "\n",
    "for _ in range(5):\n",
    "    print('Randomized response:', encode_rand_resp_yes_no(True))"
   ]
  },
  {
   "cell_type": "code",
   "execution_count": null,
   "metadata": {
    "deletable": false,
    "editable": false,
    "nbgrader": {
     "cell_type": "code",
     "checksum": "dd3171935ae026a2a87d2f9c0cfb0b0f",
     "grade": true,
     "grade_id": "cell-5fa94c04030de1ba",
     "locked": true,
     "points": 5,
     "schema_version": 3,
     "solution": false,
     "task": false
    }
   },
   "outputs": [],
   "source": [
    "# TEST CASE\n",
    "assert np.sum([encode_rand_resp_yes_no(True) for _ in range(100)]) > 60\n",
    "assert np.sum([encode_rand_resp_yes_no(True) for _ in range(100)]) < 90"
   ]
  },
  {
   "cell_type": "markdown",
   "metadata": {},
   "source": [
    "## Question 2\n",
    "\n",
    "Implement a *decoding function* for randomized response to a \"yes/no\" question."
   ]
  },
  {
   "cell_type": "code",
   "execution_count": null,
   "metadata": {
    "deletable": false,
    "nbgrader": {
     "cell_type": "code",
     "checksum": "35ba81913900c6e8994022dedc101641",
     "grade": false,
     "grade_id": "cell-3d62f78f67a975f0",
     "locked": false,
     "schema_version": 3,
     "solution": true,
     "task": false
    }
   },
   "outputs": [],
   "source": [
    "def decode_rand_resp_yes_no(responses):\n",
    "    # YOUR CODE HERE\n",
    "    raise NotImplementedError()\n",
    "\n",
    "# Example: 1000 \"yesses\" and 500 \"nos\"\n",
    "true_responses = [True for _ in range(1000)] + [False for _ in range(500)]\n",
    "print('Number of \"True\" yesses:', np.sum(true_responses))\n",
    "\n",
    "# Randomized responses\n",
    "# Each response satisfies 1.09-differential privacy\n",
    "rand_responses = [encode_rand_resp_yes_no(r) for r in true_responses]\n",
    "\n",
    "# Decode the responses by subtracting \"fake\" yesses\n",
    "print('Decoded randomized response yesses:', decode_rand_resp_yes_no(rand_responses))"
   ]
  },
  {
   "cell_type": "code",
   "execution_count": null,
   "metadata": {
    "deletable": false,
    "editable": false,
    "nbgrader": {
     "cell_type": "code",
     "checksum": "03118c1fcd501bb7a6d74244d45f6dd8",
     "grade": true,
     "grade_id": "cell-cc5191292192a8f0",
     "locked": true,
     "points": 5,
     "schema_version": 3,
     "solution": false,
     "task": false
    }
   },
   "outputs": [],
   "source": [
    "# TEST CASE\n",
    "true_responses = [True for _ in range(1000)] + [False for _ in range(500)]\n",
    "\n",
    "# Randomized responses\n",
    "# Each response satisfies 1.09-differential privacy\n",
    "rand_responses = [encode_rand_resp_yes_no(r) for r in true_responses]\n",
    "\n",
    "# Decode the responses by subtracting \"fake\" yesses\n",
    "assert decode_rand_resp_yes_no(rand_responses) < 1100\n",
    "assert decode_rand_resp_yes_no(rand_responses) > 900"
   ]
  },
  {
   "cell_type": "markdown",
   "metadata": {},
   "source": [
    "## Question 3\n",
    "\n",
    "Use the definition of randomized response above to answer the question:\n",
    "\n",
    "*How many individuals in the `adult` dataset have `Occupation` = `Sales`?*"
   ]
  },
  {
   "cell_type": "code",
   "execution_count": null,
   "metadata": {
    "deletable": false,
    "nbgrader": {
     "cell_type": "code",
     "checksum": "bb151fbc3658f27bca2eb4e0b00a7cc1",
     "grade": true,
     "grade_id": "cell-70d43cb566527293",
     "locked": false,
     "points": 5,
     "schema_version": 3,
     "solution": true,
     "task": false
    }
   },
   "outputs": [],
   "source": [
    "# take a single occupation from the adult dataset, and return a single response\n",
    "def encode_response_sales(response):\n",
    "    # YOUR CODE HERE\n",
    "    raise NotImplementedError()\n",
    "    \n",
    "def decode_responses_sales(responses):\n",
    "    # YOUR CODE HERE\n",
    "    raise NotImplementedError()\n",
    "\n",
    "responses = [encode_response_sales(r) for r in adult['Occupation']]\n",
    "decode_responses_sales(responses)"
   ]
  },
  {
   "cell_type": "code",
   "execution_count": null,
   "metadata": {},
   "outputs": [],
   "source": [
    "# How accurate is the answer above?\n",
    "true_sales = np.sum(adult['Occupation'] == 'Sales')\n",
    "print('True number of salespeople:', true_sales)"
   ]
  },
  {
   "cell_type": "markdown",
   "metadata": {},
   "source": [
    "## Question 4\n",
    "\n",
    "Implement the *encode* and *perturb* steps for Optimized Unary Hashing."
   ]
  },
  {
   "cell_type": "code",
   "execution_count": null,
   "metadata": {
    "deletable": false,
    "nbgrader": {
     "cell_type": "code",
     "checksum": "94f69181b7d48360d0c38a8835f8ab80",
     "grade": true,
     "grade_id": "cell-1809db88535aed7e",
     "locked": false,
     "points": 0,
     "schema_version": 3,
     "solution": true,
     "task": false
    }
   },
   "outputs": [],
   "source": [
    "domain = adult['Occupation'].dropna().unique()\n",
    "domain\n",
    "\n",
    "def encode(response):\n",
    "    # YOUR CODE HERE\n",
    "    raise NotImplementedError()\n",
    "\n",
    "encode('Sales')\n",
    "\n",
    "def perturb(encoded_response):\n",
    "    # YOUR CODE HERE\n",
    "    raise NotImplementedError()\n",
    "\n",
    "perturb(encode('Sales'))"
   ]
  },
  {
   "cell_type": "code",
   "execution_count": null,
   "metadata": {},
   "outputs": [],
   "source": [
    "# As in randomized response, flipping of bits causes issues in the answers\n",
    "# This is the perturbed answer (without decoding)\n",
    "counts = np.sum([perturb(encode(r)) for r in adult['Occupation']], axis=0)\n",
    "list(zip(domain, counts))"
   ]
  },
  {
   "cell_type": "code",
   "execution_count": null,
   "metadata": {},
   "outputs": [],
   "source": [
    "# This is the real answer\n",
    "counts = np.sum([encode(r) for r in adult['Occupation']], axis=0)\n",
    "list(zip(domain, counts))"
   ]
  },
  {
   "cell_type": "markdown",
   "metadata": {},
   "source": [
    "## Question 5\n",
    "\n",
    "Implement the *aggregate* step for Optimized Unary Hashing."
   ]
  },
  {
   "cell_type": "code",
   "execution_count": null,
   "metadata": {
    "deletable": false,
    "nbgrader": {
     "cell_type": "code",
     "checksum": "09c92809a8c72fd160565bf7d09496dd",
     "grade": true,
     "grade_id": "cell-0c8cd0a758266161",
     "locked": false,
     "points": 5,
     "schema_version": 3,
     "solution": true,
     "task": false
    }
   },
   "outputs": [],
   "source": [
    "def aggregate(responses):\n",
    "    # YOUR CODE HERE\n",
    "    raise NotImplementedError()\n",
    "\n",
    "responses = [perturb(encode(r)) for r in adult['Occupation']]\n",
    "counts = aggregate(responses)\n",
    "list(zip(domain, counts))"
   ]
  }
 ],
 "metadata": {
  "kernelspec": {
   "display_name": "Python 3 (ipykernel)",
   "language": "python",
   "name": "python3"
  },
  "language_info": {
   "codemirror_mode": {
    "name": "ipython",
    "version": 3
   },
   "file_extension": ".py",
   "mimetype": "text/x-python",
   "name": "python",
   "nbconvert_exporter": "python",
   "pygments_lexer": "ipython3",
   "version": "3.10.12"
  }
 },
 "nbformat": 4,
 "nbformat_minor": 4
}
